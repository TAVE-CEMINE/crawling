{
 "cells": [
  {
   "cell_type": "markdown",
   "metadata": {},
   "source": [
    "# 인스타그램 해시태그 크롤링\n",
    "## 필요한 라이브러리 import"
   ]
  },
  {
   "cell_type": "code",
   "execution_count": 1,
   "metadata": {},
   "outputs": [],
   "source": [
    "#%pip install selenium\n",
    "#%pip install webdriver_manager\n",
    "#%pip install lxml\n",
    "#%pip install openpyxl\n",
    "#%pip install --upgrade pandas\n",
    "import pandas as pd\n",
    "from datetime import datetime\n",
    "from selenium import webdriver\n",
    "from selenium.webdriver.common.by import By\n",
    "from selenium.webdriver.common.keys import Keys\n",
    "from selenium.webdriver.support.ui import WebDriverWait\n",
    "from urllib.parse import quote_plus\n",
    "from selenium.webdriver.support import expected_conditions as EC\n",
    "from selenium.webdriver.chrome.service import Service\n",
    "from webdriver_manager.chrome import ChromeDriverManager\n",
    "from bs4 import BeautifulSoup\n",
    "from lxml import html\n",
    "import urllib.request\n",
    "import requests\n",
    "import time\n",
    "import re\n",
    "import random"
   ]
  },
  {
   "cell_type": "markdown",
   "metadata": {},
   "source": [
    "## 해시태그 url 변수 저장"
   ]
  },
  {
   "cell_type": "code",
   "execution_count": 2,
   "metadata": {},
   "outputs": [],
   "source": [
    "# 해시태그 검색하여 url 변수에 저장\n",
    "def Search_hashtag(word):\n",
    "    url = \"https://www.instagram.com/explore/tags/\" + str(word)\n",
    "    return url"
   ]
  },
  {
   "cell_type": "markdown",
   "metadata": {},
   "source": [
    "## 열린 페이지에서 첫 번째 게시물 클릭"
   ]
  },
  {
   "cell_type": "code",
   "execution_count": 3,
   "metadata": {},
   "outputs": [],
   "source": [
    "def select_first(driver):\n",
    "  try:\n",
    "    first_post = WebDriverWait(driver, 10).until(\n",
    "      EC.presence_of_element_located((By.CSS_SELECTOR, 'a[href^=\"/p/\"]'))\n",
    "    )\n",
    "    first_post_click()\n",
    "  except Exception as e:\n",
    "    print(\"첫 번째 게시물 선택 오류: {e}\")\n",
    "    \n",
    "  #first = driver.find_element(By.CSS_SELECTOR, \"div._aagw\")\n",
    "  #time.sleep(3)"
   ]
  },
  {
   "cell_type": "markdown",
   "metadata": {},
   "source": [
    "## 첫 게시물 클릭 후 다음 게시물 클릭"
   ]
  },
  {
   "cell_type": "code",
   "execution_count": 3,
   "metadata": {},
   "outputs": [],
   "source": [
    "def move_next_post(driver):\n",
    "    try:\n",
    "        next_button = WebDriverWait(driver, 10).until(\n",
    "            EC.element_to_be_clickable((By.CSS_SELECTOR, \"div._aaqg._aaqh\"))\n",
    "        )\n",
    "        next_button.click()\n",
    "    except Exception as e:\n",
    "        print(f\"다음 게시물로 이동 오류: {e}\")\n",
    "    # right = driver.find_element(By.CSS_SELECTOR, \"div._aaqg._aaqh\")\n",
    "    # time.sleep(3)"
   ]
  },
  {
   "cell_type": "markdown",
   "metadata": {},
   "source": [
    "## 크롤링 함수"
   ]
  },
  {
   "cell_type": "code",
   "execution_count": 5,
   "metadata": {},
   "outputs": [],
   "source": [
    "# 함수 정의: 본문 내용, 작성일자, 좋아요 수, 해시태그 가져오기\n",
    "def collect_links(driver):\n",
    "    soup = BeautifulSoup(driver.page_source, 'html.parser')\n",
    "    links = soup.select('a[href^=\"/p/\"]')\n",
    "    return {'https://www.instagram.com' + link['href'] for link in links}\n",
    "\n",
    "def get_content(driver, index):\n",
    "    html = driver.page_source\n",
    "    soup = BeautifulSoup(html, 'lxml')\n",
    "    \n",
    "    # 이미지 저장\n",
    "    try:\n",
    "        img_element = driver.find_element(By.CSS_SELECTOR, 'img[srcset]')\n",
    "        img_src = img_element.get_attribute('src')\n",
    "        urllib.request.urlretrieve(img_src, f'{index}.jpg')\n",
    "    except Exception as e:\n",
    "        print(f\"이미지 저장 오류: {e}\")\n",
    "        img_src = None\n",
    "    \n",
    "    # 링크\n",
    "    link = driver.current_url\n",
    "    \n",
    "    # 좋아요 수\n",
    "    try:\n",
    "        likes = soup.select_one('section.EDfFK.ygqzn span').text\n",
    "    except:\n",
    "        likes = None\n",
    "    \n",
    "    data = {\n",
    "        \"img_src\":img_src,\n",
    "        \"link\":link,\n",
    "        \"likes\":likes\n",
    "    }\n",
    "    return data"
   ]
  },
  {
   "cell_type": "markdown",
   "metadata": {},
   "source": [
    "## 로그인 함수"
   ]
  },
  {
   "cell_type": "code",
   "execution_count": 6,
   "metadata": {},
   "outputs": [],
   "source": [
    "def login_instagram(driver, username, password):\n",
    "    try:\n",
    "        username_input = WebDriverWait(driver, 10).until(\n",
    "            EC.presence_of_element_located((By.CSS_SELECTOR, \"input[name='username']\"))\n",
    "        )\n",
    "        username_input.send_keys(username)\n",
    "\n",
    "        password_input = WebDriverWait(driver, 10).until(\n",
    "            EC.presence_of_element_located((By.CSS_SELECTOR, \"input[name='password']\"))\n",
    "        )\n",
    "        password_input.send_keys(password)\n",
    "\n",
    "        login_button = WebDriverWait(driver, 10).until(\n",
    "            EC.element_to_be_clickable((By.CSS_SELECTOR, \"button[type='submit']\"))\n",
    "        )\n",
    "        login_button.click()\n",
    "        return True\n",
    "    except Exception as e:\n",
    "        print(f\"로그인 오류: {e}\")\n",
    "        return False"
   ]
  },
  {
   "cell_type": "markdown",
   "metadata": {},
   "source": [
    "## 크롤링 시작"
   ]
  },
  {
   "cell_type": "code",
   "execution_count": 7,
   "metadata": {
    "scrolled": true
   },
   "outputs": [
    {
     "name": "stdout",
     "output_type": "stream",
     "text": [
      "해시태그 마뗑킴코디에 대한 검색 결과 페이지 열기\n",
      "첫 번째 게시물 선택 오류: {e}\n",
      "1/27 번째 게시물 수집 중...\n",
      "이미지 저장 오류: 'NoneType' object has no attribute 'get_attribute'\n",
      "게시물 수집 오류 : Message: no such window: target window already closed\n",
      "from unknown error: web view not found\n",
      "  (Session info: chrome=125.0.6422.142)\n",
      "Stacktrace:\n",
      "\tGetHandleVerifier [0x0080B8E3+45827]\n",
      "\t(No symbol) [0x0079DCC4]\n",
      "\t(No symbol) [0x0069150F]\n",
      "\t(No symbol) [0x0066E133]\n",
      "\t(No symbol) [0x006F949F]\n",
      "\t(No symbol) [0x0070B8E6]\n",
      "\t(No symbol) [0x006F2B96]\n",
      "\t(No symbol) [0x006C6998]\n",
      "\t(No symbol) [0x006C751D]\n",
      "\tGetHandleVerifier [0x00AC4513+2899763]\n",
      "\tGetHandleVerifier [0x00B1793D+3240797]\n",
      "\tGetHandleVerifier [0x008913B4+593364]\n",
      "\tGetHandleVerifier [0x008982DC+621820]\n",
      "\t(No symbol) [0x007A70A4]\n",
      "\t(No symbol) [0x007A37A8]\n",
      "\t(No symbol) [0x007A3947]\n",
      "\t(No symbol) [0x007959FE]\n",
      "\tBaseThreadInitThunk [0x75AE7BA9+25]\n",
      "\tRtlInitializeExceptionChain [0x77ABBE3B+107]\n",
      "\tRtlClearBits [0x77ABBDBF+191]\n",
      "\n",
      "다음 게시물로 이동 오류: Message: no such window: target window already closed\n",
      "from unknown error: web view not found\n",
      "  (Session info: chrome=125.0.6422.142)\n",
      "Stacktrace:\n",
      "\tGetHandleVerifier [0x0080B8E3+45827]\n",
      "\t(No symbol) [0x0079DCC4]\n",
      "\t(No symbol) [0x0069150F]\n",
      "\t(No symbol) [0x0066E133]\n",
      "\t(No symbol) [0x006F949F]\n",
      "\t(No symbol) [0x0070B8E6]\n",
      "\t(No symbol) [0x006F2B96]\n",
      "\t(No symbol) [0x006C6998]\n",
      "\t(No symbol) [0x006C751D]\n",
      "\tGetHandleVerifier [0x00AC4513+2899763]\n",
      "\tGetHandleVerifier [0x00B1793D+3240797]\n",
      "\tGetHandleVerifier [0x008913B4+593364]\n",
      "\tGetHandleVerifier [0x008982DC+621820]\n",
      "\t(No symbol) [0x007A70A4]\n",
      "\t(No symbol) [0x007A37A8]\n",
      "\t(No symbol) [0x007A3947]\n",
      "\t(No symbol) [0x007959FE]\n",
      "\tBaseThreadInitThunk [0x75AE7BA9+25]\n",
      "\tRtlInitializeExceptionChain [0x77ABBE3B+107]\n",
      "\tRtlClearBits [0x77ABBDBF+191]\n",
      "\n"
     ]
    },
    {
     "ename": "KeyboardInterrupt",
     "evalue": "",
     "output_type": "error",
     "traceback": [
      "\u001b[1;31m---------------------------------------------------------------------------\u001b[0m",
      "\u001b[1;31mKeyboardInterrupt\u001b[0m                         Traceback (most recent call last)",
      "Input \u001b[1;32mIn [7]\u001b[0m, in \u001b[0;36m<cell line: 34>\u001b[1;34m()\u001b[0m\n\u001b[0;32m     42\u001b[0m         \u001b[38;5;28mprint\u001b[39m(\u001b[38;5;124mf\u001b[39m\u001b[38;5;124m\"\u001b[39m\u001b[38;5;124m게시물 수집 오류 : \u001b[39m\u001b[38;5;132;01m{\u001b[39;00me\u001b[38;5;132;01m}\u001b[39;00m\u001b[38;5;124m\"\u001b[39m)\n\u001b[0;32m     43\u001b[0m         move_next_post(driver)\n\u001b[1;32m---> 44\u001b[0m     \u001b[43mtime\u001b[49m\u001b[38;5;241;43m.\u001b[39;49m\u001b[43msleep\u001b[49m\u001b[43m(\u001b[49m\u001b[38;5;241;43m5\u001b[39;49m\u001b[43m)\u001b[49m\n\u001b[0;32m     46\u001b[0m \u001b[38;5;28mprint\u001b[39m(results[:\u001b[38;5;241m2\u001b[39m])\n\u001b[0;32m     48\u001b[0m \u001b[38;5;66;03m# 결과를 데이터프레임으로 저장\u001b[39;00m\n",
      "\u001b[1;31mKeyboardInterrupt\u001b[0m: "
     ]
    }
   ],
   "source": [
    "# 크롬 브라우저 열기\n",
    "service = Service(ChromeDriverManager().install()) # 크롬드라이버 최신 버전 자동 설치\n",
    "options = webdriver.ChromeOptions() # 크롬브라우저 옵션 설정\n",
    "driver = webdriver.Chrome(service=service, options=options) # 크롬브라우저 제어\n",
    "driver.implicitly_wait(10) # 페이지 로드까지 기다리는 시간, 초과하면 NoSuchElementException\n",
    "driver.get('https://www.instagram.com')\n",
    "time.sleep(3)\n",
    "\n",
    "#인스타그램 로그인을 위한 계정 정보\n",
    "username = ''\n",
    "password = ''\n",
    "if not login_instagram(driver, username, password):\n",
    "    driver.quit()\n",
    "    raise Exception(\"로그인 실패\")\n",
    "\n",
    "time.sleep(5)\n",
    "\n",
    "# 해시태그 검색\n",
    "word = input(\"검색할 해시태그를 입력하세요: \")\n",
    "url = Search_hashtag(word)\n",
    "\n",
    "# 검색 결과 페이지 열기\n",
    "print(f\"해시태그 {word}에 대한 검색 결과 페이지 열기\")\n",
    "driver.get(url)\n",
    "time.sleep(10)\n",
    "\n",
    "# 첫 번째 게시물 클릭\n",
    "select_first(driver)\n",
    "\n",
    "# 데이터 수집 시작\n",
    "results = []\n",
    "# 수집할 게시물의 수\n",
    "target = 27\n",
    "for i in range(target):\n",
    "    start_post_time = time.time()\n",
    "    print(f\"{i+1}/{target} 번째 게시물 수집 중...\")\n",
    "    try:\n",
    "        data = get_content(driver, i)\n",
    "        results.append(data)\n",
    "        move_next_post(driver)\n",
    "    except Exception as e:\n",
    "        print(f\"게시물 수집 오류 : {e}\")\n",
    "        move_next_post(driver)\n",
    "    time.sleep(5)\n",
    "    \n",
    "print(results[:2])\n",
    "\n",
    "# 결과를 데이터프레임으로 저장\n",
    "date = datetime.today().strftime('%Y-%m-%d')\n",
    "results_df = pd.DataFrame(results)\n",
    "\n",
    "# 엑셀 파일로 저장\n",
    "results_df.to_excel('instagram_crawling.xlsx')\n",
    "\n",
    "# WebDriver 종료\n",
    "driver.quit()"
   ]
  },
  {
   "cell_type": "code",
   "execution_count": null,
   "metadata": {},
   "outputs": [],
   "source": [
    "# 변환할 엑셀 파일 경로\n",
    "excel_file = r'\\#merged_Martinkim.xlsx'\n",
    "\n",
    "# CSV 파일로 저장할 경로\n",
    "csv_file = r'\\마뗑킴\\#merged_Martinkim.csv'\n",
    "\n",
    "# 엑셀 파일 읽기\n",
    "df = pd.read_excel(excel_file)\n",
    "\n",
    "# CSV 파일로 저장\n",
    "df.to_csv(csv_file, index=False)"
   ]
  },
  {
   "cell_type": "code",
   "execution_count": 1,
   "metadata": {
    "collapsed": true
   },
   "outputs": [
    {
     "ename": "NameError",
     "evalue": "name 'pd' is not defined",
     "output_type": "error",
     "traceback": [
      "\u001b[1;31m---------------------------------------------------------------------------\u001b[0m",
      "\u001b[1;31mNameError\u001b[0m                                 Traceback (most recent call last)",
      "Input \u001b[1;32mIn [1]\u001b[0m, in \u001b[0;36m<cell line: 1>\u001b[1;34m()\u001b[0m\n\u001b[1;32m----> 1\u001b[0m df \u001b[38;5;241m=\u001b[39m \u001b[43mpd\u001b[49m\u001b[38;5;241m.\u001b[39mread_excel(\u001b[38;5;124mr\u001b[39m\u001b[38;5;124m'\u001b[39m\u001b[38;5;124mC:\u001b[39m\u001b[38;5;124m\\\u001b[39m\u001b[38;5;124mUsers\u001b[39m\u001b[38;5;124m\\\u001b[39m\u001b[38;5;124mwkdwoo\u001b[39m\u001b[38;5;124m\\\u001b[39m\u001b[38;5;124mDesktop\u001b[39m\u001b[38;5;124m\\\u001b[39m\u001b[38;5;124m장세민\u001b[39m\u001b[38;5;124m\\\u001b[39m\u001b[38;5;124m이력서\u001b[39m\u001b[38;5;124m\\\u001b[39m\u001b[38;5;124m포트폴리오\u001b[39m\u001b[38;5;124m\\\u001b[39m\u001b[38;5;124mGit\u001b[39m\u001b[38;5;124m\\\u001b[39m\u001b[38;5;124m패션브랜드 소비자 대시보드 제작 프로젝트\u001b[39m\u001b[38;5;124m\\\u001b[39m\u001b[38;5;124m크롤링\u001b[39m\u001b[38;5;124m\\\u001b[39m\u001b[38;5;124m아디다스\u001b[39m\u001b[38;5;124m\\\u001b[39m\u001b[38;5;124m#merged_adidas.xlsx\u001b[39m\u001b[38;5;124m'\u001b[39m)\n\u001b[0;32m      2\u001b[0m df\n",
      "\u001b[1;31mNameError\u001b[0m: name 'pd' is not defined"
     ]
    }
   ],
   "source": [
    "df = pd.read_excel(r'\\아디다스\\#merged_adidas.xlsx')\n",
    "df"
   ]
  },
  {
   "cell_type": "code",
   "execution_count": null,
   "metadata": {},
   "outputs": [],
   "source": []
  }
 ],
 "metadata": {
  "kernelspec": {
   "display_name": "programmers",
   "language": "python",
   "name": "programmers"
  },
  "language_info": {
   "codemirror_mode": {
    "name": "ipython",
    "version": 3
   },
   "file_extension": ".py",
   "mimetype": "text/x-python",
   "name": "python",
   "nbconvert_exporter": "python",
   "pygments_lexer": "ipython3",
   "version": "3.10.4"
  },
  "toc": {
   "base_numbering": 1,
   "nav_menu": {},
   "number_sections": true,
   "sideBar": true,
   "skip_h1_title": false,
   "title_cell": "Table of Contents",
   "title_sidebar": "Contents",
   "toc_cell": false,
   "toc_position": {},
   "toc_section_display": true,
   "toc_window_display": false
  }
 },
 "nbformat": 4,
 "nbformat_minor": 2
}
